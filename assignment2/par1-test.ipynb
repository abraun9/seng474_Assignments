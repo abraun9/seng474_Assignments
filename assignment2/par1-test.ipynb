{
 "cells": [
  {
   "cell_type": "code",
   "execution_count": 1,
   "metadata": {},
   "outputs": [
    {
     "name": "stdout",
     "output_type": "stream",
     "text": [
      "Optimal C: 0.46415888336127775\n",
      "Best validation error: 0.48\n",
      "Best training error: 0.0\n",
      "Test error with optimal C: 0.03849999999999998\n"
     ]
    }
   ],
   "source": [
    "import numpy as np\n",
    "import matplotlib.pyplot as plt\n",
    "from sklearn.svm import SVC\n",
    "from sklearn.model_selection import cross_val_score\n",
    "from sklearn.metrics import accuracy_score\n",
    "\n",
    "# Load preprocessed data\n",
    "train_images = np.load('train_images_flat.npy')\n",
    "train_labels = np.load('train_labels_noisy.npy')\n",
    "train_images_subset = np.load('train_images_flat_subset.npy')\n",
    "train_labels_subset = np.load('train_labels_noisy_subset.npy')\n",
    "test_images = np.load('test_images_flat.npy')\n",
    "test_labels = np.load('test_labels_binary.npy')\n",
    "\n",
    "# Define hyperparameter search space\n",
    "C_values = np.logspace(-3, 3, 10)  # C values to test\n",
    "k = 5  # Number of folds for cross-validation\n",
    "\n",
    "# Initialize variables to track the best configuration and errors\n",
    "optimal_C = None\n",
    "lowest_error = np.inf\n",
    "best_training_error = np.inf  # Track the best training error\n",
    "\n",
    "# Perform k-fold cross-validation for each C value\n",
    "for C in C_values:\n",
    "    model = SVC(kernel='linear', C=C)\n",
    "    \n",
    "    # Perform k-fold cross-validation using built-in function\n",
    "    val_scores = cross_val_score(model, train_images_subset, train_labels_subset, cv=k, scoring='accuracy')\n",
    "    mean_val_error = 1 - np.mean(val_scores)  # Convert accuracy to error\n",
    "    \n",
    "    # Track the best validation error and corresponding C\n",
    "    if mean_val_error < lowest_error:\n",
    "        lowest_error = mean_val_error\n",
    "        optimal_C = C\n",
    "    \n",
    "    # Calculate the training error for this C value\n",
    "    model.fit(train_images_subset, train_labels_subset)  # Train on the full subset\n",
    "    train_predictions = model.predict(train_images_subset)\n",
    "    train_error = 1 - accuracy_score(train_labels_subset, train_predictions)\n",
    "    \n",
    "    # Track the best training error\n",
    "    if train_error < best_training_error:\n",
    "        best_training_error = train_error\n",
    "\n",
    "# Output the results\n",
    "print(\"Optimal C:\", optimal_C)\n",
    "print(\"Best validation error:\", lowest_error)\n",
    "print(\"Best training error:\", best_training_error)\n",
    "\n",
    "# Train final model with optimal C\n",
    "final_model = SVC(kernel='linear', C=optimal_C)\n",
    "final_model.fit(train_images, train_labels)\n",
    "\n",
    "# Evaluate the model on the test set\n",
    "test_predictions = final_model.predict(test_images)\n",
    "test_accuracy = accuracy_score(test_labels, test_predictions)\n",
    "test_error = 1 - test_accuracy\n",
    "\n",
    "# Output the test error\n",
    "print(\"Test error with optimal C:\", test_error)"
   ]
  },
  {
   "cell_type": "code",
   "execution_count": 2,
   "metadata": {},
   "outputs": [
    {
     "name": "stdout",
     "output_type": "stream",
     "text": [
      "[1.00000000e-03 4.64158883e-03 2.15443469e-02 1.00000000e-01\n",
      " 4.64158883e-01 2.15443469e+00 1.00000000e+01 4.64158883e+01\n",
      " 2.15443469e+02 1.00000000e+03]\n"
     ]
    }
   ],
   "source": [
    "import numpy as np\n",
    "\n",
    "# Define hyperparameter search space\n",
    "C_values = np.logspace(-3, 3, 10)\n",
    "\n",
    "print(C_values)"
   ]
  },
  {
   "cell_type": "code",
   "execution_count": null,
   "metadata": {},
   "outputs": [],
   "source": []
  }
 ],
 "metadata": {
  "kernelspec": {
   "display_name": "Python 3",
   "language": "python",
   "name": "python3"
  },
  "language_info": {
   "codemirror_mode": {
    "name": "ipython",
    "version": 3
   },
   "file_extension": ".py",
   "mimetype": "text/x-python",
   "name": "python",
   "nbconvert_exporter": "python",
   "pygments_lexer": "ipython3",
   "version": "3.11.5"
  }
 },
 "nbformat": 4,
 "nbformat_minor": 2
}
