{
 "cells": [
  {
   "cell_type": "code",
   "execution_count": 11,
   "metadata": {},
   "outputs": [],
   "source": [
    "import numpy as np\n",
    "import matplotlib.pyplot as plt\n",
    "from sklearn.svm import SVC\n",
    "from sklearn.metrics import accuracy_score"
   ]
  },
  {
   "cell_type": "code",
   "execution_count": 12,
   "metadata": {},
   "outputs": [],
   "source": [
    "def k_fold_cross_validation(model, X, y, k=5, random_state=15):\n",
    "    \"\"\"\n",
    "    Perform k-fold cross-validation for a given model.\n",
    "    \n",
    "    Args:\n",
    "        model: The machine learning model to evaluate.\n",
    "        X: Feature matrix (numpy array).\n",
    "        y: Target vector (numpy array).\n",
    "        k: Number of folds (default is 5).\n",
    "        random_state: Random seed for reproducibility (default is None).\n",
    "\n",
    "    Returns:\n",
    "        - mean_val_error: The average validation error across k folds.\n",
    "        - fold_errors: List of validation errors for each fold.\n",
    "    \"\"\"\n",
    "    n_samples = len(X)\n",
    "    indices = np.arange(n_samples)\n",
    "\n",
    "    if random_state is not None:\n",
    "        np.random.seed(random_state)\n",
    "    np.random.shuffle(indices)\n",
    "\n",
    "    fold_size = n_samples // k\n",
    "    fold_errors = []\n",
    "\n",
    "    for i in range(k):\n",
    "        val_indices = indices[i * fold_size : (i + 1) * fold_size]\n",
    "        train_indices = np.setdiff1d(indices, val_indices)\n",
    "\n",
    "        X_train_fold, X_val_fold = X[train_indices], X[val_indices]\n",
    "        y_train_fold, y_val_fold = y[train_indices], y[val_indices]\n",
    "\n",
    "        model.fit(X_train_fold, y_train_fold)\n",
    "        y_val_pred = model.predict(X_val_fold)\n",
    "        val_accuracy = accuracy_score(y_val_fold, y_val_pred)\n",
    "        val_error = 1 - val_accuracy\n",
    "        fold_errors.append(val_error)\n",
    "\n",
    "    mean_val_error = np.mean(fold_errors)\n",
    "    return mean_val_error, fold_errors"
   ]
  },
  {
   "cell_type": "code",
   "execution_count": 13,
   "metadata": {},
   "outputs": [],
   "source": [
    "# Load preprocessed data\n",
    "train_images = np.load('train_images_flat.npy')\n",
    "train_labels = np.load('train_labels_noisy.npy')\n",
    "train_images_subset = np.load('train_images_flat_subset.npy')\n",
    "train_labels_subset = np.load('train_labels_noisy_subset.npy')\n",
    "test_images = np.load('test_images_flat.npy')\n",
    "test_labels = np.load('test_labels_binary.npy')\n",
    "\n",
    "# Define hyperparameter search space\n",
    "C_values = np.logspace(-3, 3, 10)\n",
    "k = 5\n",
    "optimal_C = None\n",
    "lowest_error = float('inf')\n",
    "errors = []"
   ]
  },
  {
   "cell_type": "code",
   "execution_count": 14,
   "metadata": {},
   "outputs": [
    {
     "name": "stdout",
     "output_type": "stream",
     "text": [
      "Optimal C: 0.46415888336127775\n",
      "Best validation error: 0.4765\n",
      "Best training error: 0.0\n"
     ]
    }
   ],
   "source": [
    "# Initialize variables to track the best configuration and errors\n",
    "optimal_C = None\n",
    "lowest_error = np.inf\n",
    "best_training_error = np.inf  # Track the best training error\n",
    "\n",
    "# Perform k-fold cross-validation for each C value\n",
    "for C in C_values:\n",
    "    model = SVC(kernel='linear', C=C)\n",
    "    mean_val_error, fold_errors = k_fold_cross_validation(model, train_images_subset, train_labels_subset, k)\n",
    "    \n",
    "    # Track the best validation error and corresponding C\n",
    "    if mean_val_error < lowest_error:\n",
    "        lowest_error = mean_val_error\n",
    "        optimal_C = C\n",
    "    \n",
    "    # Calculate the training error for this C value\n",
    "    model.fit(train_images_subset, train_labels_subset)  # Train on the full subset\n",
    "    train_predictions = model.predict(train_images_subset)\n",
    "    train_error = 1 - accuracy_score(train_labels_subset, train_predictions)\n",
    "    \n",
    "    # Track the best training error\n",
    "    if train_error < best_training_error:\n",
    "        best_training_error = train_error\n",
    "\n",
    "# Output the results\n",
    "print(\"Optimal C:\", optimal_C)\n",
    "print(\"Best validation error:\", lowest_error)\n",
    "print(\"Best training error:\", best_training_error)"
   ]
  },
  {
   "cell_type": "code",
   "execution_count": 15,
   "metadata": {},
   "outputs": [
    {
     "name": "stdout",
     "output_type": "stream",
     "text": [
      "Test error with optimal C: 0.03849999999999998\n"
     ]
    }
   ],
   "source": [
    "# Train final model with optimal C\n",
    "final_model = SVC(kernel='linear', C=optimal_C)\n",
    "final_model.fit(train_images, train_labels) \n",
    "\n",
    "# Evaluate the model on the test set\n",
    "test_predictions = final_model.predict(test_images)\n",
    "test_accuracy = accuracy_score(test_labels, test_predictions)\n",
    "test_error = 1 - test_accuracy\n",
    "\n",
    "# Output the test error\n",
    "print(\"Test error with optimal C:\", test_error)"
   ]
  },
  {
   "cell_type": "code",
   "execution_count": 19,
   "metadata": {},
   "outputs": [
    {
     "name": "stdout",
     "output_type": "stream",
     "text": [
      "C: 0.0001, Training Error: 0.1134, Test Error: 0.1000\n",
      "C: 0.0003, Training Error: 0.0899, Test Error: 0.0775\n",
      "C: 0.0007, Training Error: 0.0674, Test Error: 0.0665\n",
      "C: 0.0018, Training Error: 0.0527, Test Error: 0.0545\n",
      "C: 0.0048, Training Error: 0.0441, Test Error: 0.0480\n",
      "C: 0.0127, Training Error: 0.0373, Test Error: 0.0470\n",
      "C: 0.0336, Training Error: 0.0335, Test Error: 0.0405\n"
     ]
    },
    {
     "name": "stderr",
     "output_type": "stream",
     "text": [
      "c:\\Users\\abrau\\anaconda3\\Lib\\site-packages\\sklearn\\svm\\_base.py:297: ConvergenceWarning: Solver terminated early (max_iter=5000).  Consider pre-processing your data with StandardScaler or MinMaxScaler.\n",
      "  warnings.warn(\n"
     ]
    },
    {
     "name": "stdout",
     "output_type": "stream",
     "text": [
      "C: 0.0886, Training Error: 0.0301, Test Error: 0.0385\n"
     ]
    },
    {
     "name": "stderr",
     "output_type": "stream",
     "text": [
      "c:\\Users\\abrau\\anaconda3\\Lib\\site-packages\\sklearn\\svm\\_base.py:297: ConvergenceWarning: Solver terminated early (max_iter=5000).  Consider pre-processing your data with StandardScaler or MinMaxScaler.\n",
      "  warnings.warn(\n"
     ]
    },
    {
     "name": "stdout",
     "output_type": "stream",
     "text": [
      "C: 0.2336, Training Error: 0.0276, Test Error: 0.0385\n"
     ]
    },
    {
     "name": "stderr",
     "output_type": "stream",
     "text": [
      "c:\\Users\\abrau\\anaconda3\\Lib\\site-packages\\sklearn\\svm\\_base.py:297: ConvergenceWarning: Solver terminated early (max_iter=5000).  Consider pre-processing your data with StandardScaler or MinMaxScaler.\n",
      "  warnings.warn(\n"
     ]
    },
    {
     "name": "stdout",
     "output_type": "stream",
     "text": [
      "C: 0.6158, Training Error: 0.0243, Test Error: 0.0395\n"
     ]
    },
    {
     "name": "stderr",
     "output_type": "stream",
     "text": [
      "c:\\Users\\abrau\\anaconda3\\Lib\\site-packages\\sklearn\\svm\\_base.py:297: ConvergenceWarning: Solver terminated early (max_iter=5000).  Consider pre-processing your data with StandardScaler or MinMaxScaler.\n",
      "  warnings.warn(\n"
     ]
    },
    {
     "name": "stdout",
     "output_type": "stream",
     "text": [
      "C: 1.6238, Training Error: 0.0305, Test Error: 0.0465\n"
     ]
    },
    {
     "name": "stderr",
     "output_type": "stream",
     "text": [
      "c:\\Users\\abrau\\anaconda3\\Lib\\site-packages\\sklearn\\svm\\_base.py:297: ConvergenceWarning: Solver terminated early (max_iter=5000).  Consider pre-processing your data with StandardScaler or MinMaxScaler.\n",
      "  warnings.warn(\n"
     ]
    },
    {
     "name": "stdout",
     "output_type": "stream",
     "text": [
      "C: 4.2813, Training Error: 0.0686, Test Error: 0.0710\n"
     ]
    },
    {
     "name": "stderr",
     "output_type": "stream",
     "text": [
      "c:\\Users\\abrau\\anaconda3\\Lib\\site-packages\\sklearn\\svm\\_base.py:297: ConvergenceWarning: Solver terminated early (max_iter=5000).  Consider pre-processing your data with StandardScaler or MinMaxScaler.\n",
      "  warnings.warn(\n"
     ]
    },
    {
     "name": "stdout",
     "output_type": "stream",
     "text": [
      "C: 11.2884, Training Error: 0.0896, Test Error: 0.0900\n"
     ]
    },
    {
     "name": "stderr",
     "output_type": "stream",
     "text": [
      "c:\\Users\\abrau\\anaconda3\\Lib\\site-packages\\sklearn\\svm\\_base.py:297: ConvergenceWarning: Solver terminated early (max_iter=5000).  Consider pre-processing your data with StandardScaler or MinMaxScaler.\n",
      "  warnings.warn(\n"
     ]
    },
    {
     "name": "stdout",
     "output_type": "stream",
     "text": [
      "C: 29.7635, Training Error: 0.2218, Test Error: 0.2290\n"
     ]
    },
    {
     "name": "stderr",
     "output_type": "stream",
     "text": [
      "c:\\Users\\abrau\\anaconda3\\Lib\\site-packages\\sklearn\\svm\\_base.py:297: ConvergenceWarning: Solver terminated early (max_iter=5000).  Consider pre-processing your data with StandardScaler or MinMaxScaler.\n",
      "  warnings.warn(\n"
     ]
    },
    {
     "name": "stdout",
     "output_type": "stream",
     "text": [
      "C: 78.4760, Training Error: 0.2218, Test Error: 0.2290\n"
     ]
    },
    {
     "name": "stderr",
     "output_type": "stream",
     "text": [
      "c:\\Users\\abrau\\anaconda3\\Lib\\site-packages\\sklearn\\svm\\_base.py:297: ConvergenceWarning: Solver terminated early (max_iter=5000).  Consider pre-processing your data with StandardScaler or MinMaxScaler.\n",
      "  warnings.warn(\n"
     ]
    },
    {
     "name": "stdout",
     "output_type": "stream",
     "text": [
      "C: 206.9138, Training Error: 0.2218, Test Error: 0.2290\n"
     ]
    },
    {
     "name": "stderr",
     "output_type": "stream",
     "text": [
      "c:\\Users\\abrau\\anaconda3\\Lib\\site-packages\\sklearn\\svm\\_base.py:297: ConvergenceWarning: Solver terminated early (max_iter=5000).  Consider pre-processing your data with StandardScaler or MinMaxScaler.\n",
      "  warnings.warn(\n"
     ]
    },
    {
     "name": "stdout",
     "output_type": "stream",
     "text": [
      "C: 545.5595, Training Error: 0.2218, Test Error: 0.2290\n"
     ]
    },
    {
     "name": "stderr",
     "output_type": "stream",
     "text": [
      "c:\\Users\\abrau\\anaconda3\\Lib\\site-packages\\sklearn\\svm\\_base.py:297: ConvergenceWarning: Solver terminated early (max_iter=5000).  Consider pre-processing your data with StandardScaler or MinMaxScaler.\n",
      "  warnings.warn(\n"
     ]
    },
    {
     "name": "stdout",
     "output_type": "stream",
     "text": [
      "C: 1438.4499, Training Error: 0.2218, Test Error: 0.2290\n"
     ]
    },
    {
     "name": "stderr",
     "output_type": "stream",
     "text": [
      "c:\\Users\\abrau\\anaconda3\\Lib\\site-packages\\sklearn\\svm\\_base.py:297: ConvergenceWarning: Solver terminated early (max_iter=5000).  Consider pre-processing your data with StandardScaler or MinMaxScaler.\n",
      "  warnings.warn(\n"
     ]
    },
    {
     "name": "stdout",
     "output_type": "stream",
     "text": [
      "C: 3792.6902, Training Error: 0.2218, Test Error: 0.2290\n"
     ]
    },
    {
     "name": "stderr",
     "output_type": "stream",
     "text": [
      "c:\\Users\\abrau\\anaconda3\\Lib\\site-packages\\sklearn\\svm\\_base.py:297: ConvergenceWarning: Solver terminated early (max_iter=5000).  Consider pre-processing your data with StandardScaler or MinMaxScaler.\n",
      "  warnings.warn(\n"
     ]
    },
    {
     "name": "stdout",
     "output_type": "stream",
     "text": [
      "C: 10000.0000, Training Error: 0.2218, Test Error: 0.2290\n",
      "\n",
      "Lowest Training Error: 0.0243 at C = 0.6158\n",
      "Lowest Test Error: 0.0385 at C = 0.0886\n"
     ]
    },
    {
     "data": {
      "image/png": "[encoded data removed]",
      "text/plain": [
       "<Figure size 800x600 with 1 Axes>"
      ]
     },
     "metadata": {},
     "output_type": "display_data"
    }
   ],
   "source": [
    "# Define finer set of C values for final plot\n",
    "C_values_fine = np.logspace(-4, 4, 20)  # 20 values between 10^-4 and 10^4\n",
    "train_errors = []\n",
    "test_errors = []\n",
    "\n",
    "# Initialize variables to track the best errors and corresponding C values\n",
    "best_train_error = np.inf\n",
    "best_test_error = np.inf\n",
    "best_train_C = None\n",
    "best_test_C = None\n",
    "\n",
    "# Compute training and test error for each C value\n",
    "for C in C_values_fine:\n",
    "    model = SVC(kernel='linear', C=C, max_iter=5000, random_state=15)\n",
    "    model.fit(train_images, train_labels)\n",
    "    \n",
    "    # Compute training error\n",
    "    train_predictions = model.predict(train_images)\n",
    "    train_accuracy = accuracy_score(train_labels, train_predictions)\n",
    "    train_error = 1 - train_accuracy\n",
    "    train_errors.append(train_error)\n",
    "    \n",
    "    # Compute test error\n",
    "    test_predictions = model.predict(test_images)\n",
    "    test_accuracy = accuracy_score(test_labels, test_predictions)\n",
    "    test_error = 1 - test_accuracy\n",
    "    test_errors.append(test_error)\n",
    "    \n",
    "    # Track the best training error and corresponding C\n",
    "    if train_error < best_train_error:\n",
    "        best_train_error = train_error\n",
    "        best_train_C = C\n",
    "    \n",
    "    # Track the best test error and corresponding C\n",
    "    if test_error < best_test_error:\n",
    "        best_test_error = test_error\n",
    "        best_test_C = C\n",
    "    \n",
    "    # Print progress\n",
    "    print(f\"C: {C:.4f}, Training Error: {train_error:.4f}, Test Error: {test_error:.4f}\")\n",
    "\n",
    "# Output the best errors and corresponding C values\n",
    "print(\"\\nLowest Training Error: {:.4f} at C = {:.4f}\".format(best_train_error, best_train_C))\n",
    "print(\"Lowest Test Error: {:.4f} at C = {:.4f}\".format(best_test_error, best_test_C))\n",
    "\n",
    "# Plot training and test error vs C\n",
    "plt.figure(figsize=(8, 6))\n",
    "plt.semilogx(C_values_fine, train_errors, label='Training Error', marker='o')\n",
    "plt.semilogx(C_values_fine, test_errors, label='Test Error', marker='s')\n",
    "plt.xlabel('Regularization Parameter C')\n",
    "plt.ylabel('Error')\n",
    "plt.title('Training and Test Error vs C')\n",
    "plt.legend()\n",
    "plt.show()"
   ]
  }
 ],
 "metadata": {
  "kernelspec": {
   "display_name": "Python 3",
   "language": "python",
   "name": "python3"
  },
  "language_info": {
   "codemirror_mode": {
    "name": "ipython",
    "version": 3
   },
   "file_extension": ".py",
   "mimetype": "text/x-python",
   "name": "python",
   "nbconvert_exporter": "python",
   "pygments_lexer": "ipython3",
   "version": "3.11.5"
  }
 },
 "nbformat": 4,
 "nbformat_minor": 2
}
