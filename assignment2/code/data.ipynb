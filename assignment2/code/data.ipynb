{
 "cells": [
  {
   "cell_type": "code",
   "execution_count": 61,
   "metadata": {},
   "outputs": [],
   "source": [
    "import numpy as np \n",
    "import sys\n",
    "\n",
    "sys.path.append(r\"C:\\Users\\abrau\\uvic\\seng474\\assignment2\\fashion-mnist-master\\fashion-mnist-master\\utils\")\n",
    "import mnist_reader"
   ]
  },
  {
   "cell_type": "code",
   "execution_count": 62,
   "metadata": {},
   "outputs": [],
   "source": [
    "import gzip\n",
    "import os\n",
    "import numpy as np\n",
    "\n",
    "# Define the data folder path\n",
    "data_path = r\"C:\\Users\\abrau\\uvic\\seng474\\assignment2\\fashion-mnist-master\\fashion-mnist-master\\data\\fashion\"\n",
    "\n",
    "def load_mnist_images(filename):\n",
    "    file_path = os.path.join(data_path, filename)  # Construct full path\n",
    "    with gzip.open(file_path, 'rb') as f:\n",
    "        f.read(16)  # Skip the header (first 16 bytes for images)\n",
    "        return np.frombuffer(f.read(), dtype=np.uint8).reshape(-1, 28*28)  # Reshape to 28x28 images\n",
    "\n",
    "def load_mnist_labels(filename):\n",
    "    file_path = os.path.join(data_path, filename)  # Construct full path\n",
    "    with gzip.open(file_path, 'rb') as f:\n",
    "        f.read(8)  # Skip the header (first 8 bytes for labels)\n",
    "        return np.frombuffer(f.read(), dtype=np.uint8)\n",
    "\n",
    "# Load the dataset\n",
    "train_images = load_mnist_images('train-images-idx3-ubyte.gz')\n",
    "train_labels = load_mnist_labels('train-labels-idx1-ubyte.gz')\n",
    "test_images = load_mnist_images('t10k-images-idx3-ubyte.gz')\n",
    "test_labels = load_mnist_labels('t10k-labels-idx1-ubyte.gz')\n",
    "\n",
    "\n",
    "# Filter training data\n",
    "train_mask = (train_labels == 5) | (train_labels == 7)\n",
    "train_images_filtered = train_images[train_mask]\n",
    "train_labels_filtered = train_labels[train_mask]\n",
    "\n",
    "# Filter test data\n",
    "test_mask = (test_labels == 5) | (test_labels == 7)\n",
    "test_images_filtered = test_images[test_mask]\n",
    "test_labels_filtered = test_labels[test_mask]"
   ]
  },
  {
   "cell_type": "code",
   "execution_count": 63,
   "metadata": {},
   "outputs": [],
   "source": [
    "train_labels_binary = np.where(train_labels_filtered == 5, 0, 1)\n",
    "test_labels_binary = np.where(test_labels_filtered == 5, 0, 1)\n",
    "\n",
    "train_images_normalized = train_images_filtered / 255.0\n",
    "test_images_normalized = test_images_filtered / 255.0"
   ]
  },
  {
   "cell_type": "code",
   "execution_count": 64,
   "metadata": {},
   "outputs": [],
   "source": [
    "# Create a subset with 1000 examples of class 0 and 1000 examples of class 1\n",
    "class_0_indices = np.where(train_labels_binary == 0)[0]\n",
    "class_1_indices = np.where(train_labels_binary == 1)[0]\n",
    "\n",
    "# Randomly select 1000 examples from each class\n",
    "np.random.seed(15)  # For reproducibility\n",
    "subset_class_0_indices = np.random.choice(class_0_indices, 1000, replace=False)\n",
    "subset_class_1_indices = np.random.choice(class_1_indices, 1000, replace=False)\n",
    "\n",
    "# Combine the indices\n",
    "subset_indices = np.concatenate([subset_class_0_indices, subset_class_1_indices])\n",
    "\n",
    "# Shuffle the combined indices\n",
    "np.random.shuffle(subset_indices)\n",
    "\n",
    "# Create the subset\n",
    "train_images_subset = train_images_normalized[subset_indices]\n",
    "train_labels_subset = train_labels_binary[subset_indices]"
   ]
  },
  {
   "cell_type": "code",
   "execution_count": 65,
   "metadata": {},
   "outputs": [],
   "source": [
    "import random\n",
    "\n",
    "def random_labels(labels, noise_prob):\n",
    "    noisy_labels = labels.copy()\n",
    "    for i in noisy_labels:\n",
    "        if random.random() < noise_prob:\n",
    "            noisy_labels[i] = 1 - noisy_labels[i]\n",
    "\n",
    "    return noisy_labels\n",
    "\n",
    "noise_prob = 0.2\n",
    "train_labels_noisy_subset = random_labels(train_labels_subset, noise_prob)\n",
    "train_labels_noisy = random_labels(train_labels_binary, noise_prob)"
   ]
  },
  {
   "cell_type": "code",
   "execution_count": 66,
   "metadata": {},
   "outputs": [
    {
     "name": "stdout",
     "output_type": "stream",
     "text": [
      "Training data shape: (12000, 784)\n",
      "Training labels shape: (12000,)\n",
      "Training data shape: (2000, 4704)\n",
      "Training labels shape: (2000,)\n",
      "Test data shape: (2000, 784)\n",
      "Test labels shape: (2000,)\n"
     ]
    }
   ],
   "source": [
    "train_images_flat_subset = train_images_normalized.reshape(train_images_subset.shape[0], -1)\n",
    "train_images_flat = train_images_normalized.reshape(train_images_normalized.shape[0], -1)\n",
    "test_images_flat = test_images_normalized.reshape(test_images_normalized.shape[0], -1)\n",
    "\n",
    "print(\"Training data shape:\", train_images_flat.shape)\n",
    "print(\"Training labels shape:\", train_labels_noisy.shape)\n",
    "print(\"Training data shape:\", train_images_flat_subset.shape)\n",
    "print(\"Training labels shape:\", train_labels_noisy_subset.shape)\n",
    "print(\"Test data shape:\", test_images_flat.shape)\n",
    "print(\"Test labels shape:\", test_labels_binary.shape)"
   ]
  },
  {
   "cell_type": "code",
   "execution_count": 67,
   "metadata": {},
   "outputs": [],
   "source": [
    "np.save('train_images_flat.npy', train_images_flat)\n",
    "np.save('train_labels_noisy.npy', train_labels_noisy)\n",
    "np.save('train_images_flat_subset.npy', train_images_flat_subset)\n",
    "np.save('train_labels_noisy_subset.npy', train_labels_noisy_subset)\n",
    "np.save('test_images_flat.npy', test_images_flat)\n",
    "np.save('test_labels_binary.npy', test_labels_binary)"
   ]
  },
  {
   "cell_type": "code",
   "execution_count": null,
   "metadata": {},
   "outputs": [],
   "source": []
  }
 ],
 "metadata": {
  "kernelspec": {
   "display_name": "Python 3",
   "language": "python",
   "name": "python3"
  },
  "language_info": {
   "name": "python",
   "version": "3.11.5"
  }
 },
 "nbformat": 4,
 "nbformat_minor": 2
}
